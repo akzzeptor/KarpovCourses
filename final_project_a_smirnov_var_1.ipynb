{
 "cells": [
  {
   "cell_type": "markdown",
   "metadata": {},
   "source": [
    "## Проект: вариант 1\n",
    "Представьте, что вы работаете в компании, которая разрабатывает мобильные игры. К вам пришел менеджер с рядом задач по исследованию нескольких аспектов мобильного приложения:\n",
    "\n",
    "1. В первую очередь, его интересует показатель retention. Напишите функцию для его подсчета.\n",
    "2. Помимо этого, в компании провели A/B тестирование наборов акционных предложений. На основе имеющихся данных определите, какой набор можно считать лучшим и на основе каких метрик стоит принять правильное решение.\n",
    "3. Предложите метрики для оценки результатов последнего прошедшего тематического события в игре."
   ]
  },
  {
   "cell_type": "code",
   "execution_count": 13,
   "metadata": {},
   "outputs": [],
   "source": [
    "# импорт необходимых библиотек\n",
    "import pandas as pd\n",
    "import numpy as np\n",
    "import matplotlib.pyplot as plt\n",
    "import matplotlib.dates as mdates\n",
    "import seaborn as sns\n",
    "import scipy.stats as ss\n",
    "from tqdm.auto import tqdm\n",
    "from datetime import datetime\n",
    "import requests\n",
    "from urllib.parse import urlencode \n",
    "import json\n",
    "from tqdm.auto import tqdm\n",
    "from scipy.stats import norm, mannwhitneyu\n",
    "\n",
    "%matplotlib inline"
   ]
  },
  {
   "cell_type": "markdown",
   "metadata": {},
   "source": [
    "### Задание 1\n",
    "Retention – один из самых важных показателей в компании. Ваша задача – написать функцию, которая будет считать retention игроков (по дням от даты регистрации игрока). Данные лежат в папке shared."
   ]
  },
  {
   "cell_type": "code",
   "execution_count": 14,
   "metadata": {},
   "outputs": [],
   "source": [
    "# импорт данных из папки shared\n",
    "df_reg = pd.read_csv('/mnt/HC_Volume_18315164/home-jupyter/jupyter-a-smirnov-24/shared/problem1-reg_data.csv', sep=';')\n",
    "df_auth = pd.read_csv('/mnt/HC_Volume_18315164/home-jupyter/jupyter-a-smirnov-24/shared/problem1-auth_data.csv', sep=';')"
   ]
  },
  {
   "cell_type": "code",
   "execution_count": 15,
   "metadata": {},
   "outputs": [
    {
     "data": {
      "text/html": [
       "<div>\n",
       "<style scoped>\n",
       "    .dataframe tbody tr th:only-of-type {\n",
       "        vertical-align: middle;\n",
       "    }\n",
       "\n",
       "    .dataframe tbody tr th {\n",
       "        vertical-align: top;\n",
       "    }\n",
       "\n",
       "    .dataframe thead th {\n",
       "        text-align: right;\n",
       "    }\n",
       "</style>\n",
       "<table border=\"1\" class=\"dataframe\">\n",
       "  <thead>\n",
       "    <tr style=\"text-align: right;\">\n",
       "      <th></th>\n",
       "      <th>reg_ts</th>\n",
       "      <th>uid</th>\n",
       "    </tr>\n",
       "  </thead>\n",
       "  <tbody>\n",
       "    <tr>\n",
       "      <th>0</th>\n",
       "      <td>911382223</td>\n",
       "      <td>1</td>\n",
       "    </tr>\n",
       "    <tr>\n",
       "      <th>1</th>\n",
       "      <td>932683089</td>\n",
       "      <td>2</td>\n",
       "    </tr>\n",
       "    <tr>\n",
       "      <th>2</th>\n",
       "      <td>947802447</td>\n",
       "      <td>3</td>\n",
       "    </tr>\n",
       "    <tr>\n",
       "      <th>3</th>\n",
       "      <td>959523541</td>\n",
       "      <td>4</td>\n",
       "    </tr>\n",
       "    <tr>\n",
       "      <th>4</th>\n",
       "      <td>969103313</td>\n",
       "      <td>5</td>\n",
       "    </tr>\n",
       "  </tbody>\n",
       "</table>\n",
       "</div>"
      ],
      "text/plain": [
       "      reg_ts  uid\n",
       "0  911382223    1\n",
       "1  932683089    2\n",
       "2  947802447    3\n",
       "3  959523541    4\n",
       "4  969103313    5"
      ]
     },
     "execution_count": 15,
     "metadata": {},
     "output_type": "execute_result"
    }
   ],
   "source": [
    "# структура данных\n",
    "df_reg.head()"
   ]
  },
  {
   "cell_type": "code",
   "execution_count": 16,
   "metadata": {},
   "outputs": [
    {
     "data": {
      "text/html": [
       "<div>\n",
       "<style scoped>\n",
       "    .dataframe tbody tr th:only-of-type {\n",
       "        vertical-align: middle;\n",
       "    }\n",
       "\n",
       "    .dataframe tbody tr th {\n",
       "        vertical-align: top;\n",
       "    }\n",
       "\n",
       "    .dataframe thead th {\n",
       "        text-align: right;\n",
       "    }\n",
       "</style>\n",
       "<table border=\"1\" class=\"dataframe\">\n",
       "  <thead>\n",
       "    <tr style=\"text-align: right;\">\n",
       "      <th></th>\n",
       "      <th>auth_ts</th>\n",
       "      <th>uid</th>\n",
       "    </tr>\n",
       "  </thead>\n",
       "  <tbody>\n",
       "    <tr>\n",
       "      <th>0</th>\n",
       "      <td>911382223</td>\n",
       "      <td>1</td>\n",
       "    </tr>\n",
       "    <tr>\n",
       "      <th>1</th>\n",
       "      <td>932683089</td>\n",
       "      <td>2</td>\n",
       "    </tr>\n",
       "    <tr>\n",
       "      <th>2</th>\n",
       "      <td>932921206</td>\n",
       "      <td>2</td>\n",
       "    </tr>\n",
       "    <tr>\n",
       "      <th>3</th>\n",
       "      <td>933393015</td>\n",
       "      <td>2</td>\n",
       "    </tr>\n",
       "    <tr>\n",
       "      <th>4</th>\n",
       "      <td>933875379</td>\n",
       "      <td>2</td>\n",
       "    </tr>\n",
       "  </tbody>\n",
       "</table>\n",
       "</div>"
      ],
      "text/plain": [
       "     auth_ts  uid\n",
       "0  911382223    1\n",
       "1  932683089    2\n",
       "2  932921206    2\n",
       "3  933393015    2\n",
       "4  933875379    2"
      ]
     },
     "execution_count": 16,
     "metadata": {},
     "output_type": "execute_result"
    }
   ],
   "source": [
    "df_auth.head()"
   ]
  },
  {
   "cell_type": "markdown",
   "metadata": {},
   "source": [
    "###### Базовая предобработка данных"
   ]
  },
  {
   "cell_type": "code",
   "execution_count": 17,
   "metadata": {},
   "outputs": [
    {
     "data": {
      "text/plain": [
       "1000000"
      ]
     },
     "metadata": {},
     "output_type": "display_data"
    },
    {
     "data": {
      "text/plain": [
       "9601013"
      ]
     },
     "metadata": {},
     "output_type": "display_data"
    }
   ],
   "source": [
    "# количество сторок\n",
    "display(df_reg.shape[0], df_auth.shape[0])"
   ]
  },
  {
   "cell_type": "code",
   "execution_count": 18,
   "metadata": {},
   "outputs": [
    {
     "data": {
      "text/plain": [
       "reg_ts    0\n",
       "uid       0\n",
       "dtype: int64"
      ]
     },
     "metadata": {},
     "output_type": "display_data"
    },
    {
     "data": {
      "text/plain": [
       "auth_ts    0\n",
       "uid        0\n",
       "dtype: int64"
      ]
     },
     "metadata": {},
     "output_type": "display_data"
    }
   ],
   "source": [
    "# проверка на отсутствие пропущенных значений\n",
    "display(df_reg.isna().sum(),df_auth.isna().sum())"
   ]
  },
  {
   "cell_type": "code",
   "execution_count": 19,
   "metadata": {},
   "outputs": [
    {
     "data": {
      "text/plain": [
       "reg_ts    int64\n",
       "uid       int64\n",
       "dtype: object"
      ]
     },
     "metadata": {},
     "output_type": "display_data"
    },
    {
     "data": {
      "text/plain": [
       "auth_ts    int64\n",
       "uid        int64\n",
       "dtype: object"
      ]
     },
     "metadata": {},
     "output_type": "display_data"
    }
   ],
   "source": [
    "# проверка типа данных\n",
    "display(df_reg.dtypes, df_auth.dtypes)"
   ]
  },
  {
   "cell_type": "code",
   "execution_count": 20,
   "metadata": {},
   "outputs": [
    {
     "data": {
      "text/plain": [
       "1000000"
      ]
     },
     "metadata": {},
     "output_type": "display_data"
    },
    {
     "data": {
      "text/plain": [
       "1000000"
      ]
     },
     "metadata": {},
     "output_type": "display_data"
    }
   ],
   "source": [
    "# проверка количества уникальных пользователей в каждом из df\n",
    "display(df_reg['uid'].nunique(), df_auth['uid'].nunique())"
   ]
  },
  {
   "cell_type": "code",
   "execution_count": 21,
   "metadata": {},
   "outputs": [
    {
     "data": {
      "text/plain": [
       "'1998-11-18'"
      ]
     },
     "metadata": {},
     "output_type": "display_data"
    },
    {
     "data": {
      "text/plain": [
       "'2020-09-23'"
      ]
     },
     "metadata": {},
     "output_type": "display_data"
    }
   ],
   "source": [
    "# дата первой и последней регистрации\n",
    "display(datetime.utcfromtimestamp(df_reg.reg_ts.min()).strftime('%Y-%m-%d'),datetime.utcfromtimestamp(df_reg.reg_ts.max()).strftime('%Y-%m-%d'))"
   ]
  },
  {
   "cell_type": "code",
   "execution_count": 22,
   "metadata": {},
   "outputs": [
    {
     "data": {
      "text/plain": [
       "'1998-11-18'"
      ]
     },
     "metadata": {},
     "output_type": "display_data"
    },
    {
     "data": {
      "text/plain": [
       "'2020-09-23'"
      ]
     },
     "metadata": {},
     "output_type": "display_data"
    }
   ],
   "source": [
    "# дата первой и последней авторизации\n",
    "display(datetime.utcfromtimestamp(df_auth.auth_ts.min()).strftime('%Y-%m-%d'),datetime.utcfromtimestamp(df_auth.auth_ts.max()).strftime('%Y-%m-%d'))"
   ]
  },
  {
   "cell_type": "code",
   "execution_count": null,
   "metadata": {},
   "outputs": [],
   "source": [
    " "
   ]
  },
  {
   "cell_type": "markdown",
   "metadata": {},
   "source": [
    "##### Функция по подсчёту retention игроков\n",
    "В качестве аргументов функции будут выступать:\n",
    "* df_reg - датафрейм с данными регистрации пользователей\n",
    "* df_auth - датафрейм с данными авторизации пользователей\n",
    "* start_date - начальная дата сэмпла данных (min значение '1998-11-18', max значение '2020-09-23')\n",
    "* finish_date - конечная дата сэмпла данных (min значение '1998-11-18', max значение '2020-09-23')\n",
    "* n_day - аргумент для задания n-ного дня ретеншена (int)"
   ]
  },
  {
   "cell_type": "code",
   "execution_count": 23,
   "metadata": {},
   "outputs": [],
   "source": [
    "def retention_n_day(df_reg, df_auth, start_date, finish_date, n_day):\n",
    "    start_date = pd.to_datetime(start_date).strftime('%Y-%m-%d')\n",
    "    finish_date = pd.to_datetime(finish_date).strftime('%Y-%m-%d')\n",
    "    \n",
    "    # объединение df регистрации и авторизации по id пользователя\n",
    "    df_general = df_auth.merge(df_reg, on='uid')\n",
    "    \n",
    "    # перевод в корректное отображение дат из формата ts\n",
    "    df_general['reg_time'] = pd.to_datetime(df_general.reg_ts, unit='s').dt.round('d')\n",
    "    df_general['auth_time'] = pd.to_datetime(df_general.auth_ts, unit='s').dt.round('d')\n",
    "    \n",
    "    # удаление столбцов даты формата ts\n",
    "    df_general = df_general.drop(['reg_ts', 'auth_ts'], axis=1)\n",
    "    \n",
    "    # создание столбца с количеством дней прошедших с начала регистрации для каждого случая авторизации\n",
    "    df_general['days_since_reg'] = (df_general['auth_time'] - df_general['reg_time']).dt.days\n",
    "    \n",
    "    # сэмплирование данных по интересующему нас пробежутку времени\n",
    "    df_sample = df_general[(df_general['reg_time'] >= start_date) & (df_general['reg_time'] <= finish_date) & (df_general['days_since_reg'] <= n_day)]\n",
    "    \n",
    "    # подсчёт процента удержания\n",
    "    df_cohort = ((df_sample.groupby(['reg_time', 'days_since_reg']).agg({'uid':'nunique'}))/df_sample.groupby('reg_time').agg({'uid':'nunique'})) \\\n",
    "                .reset_index().rename(columns={'uid':'percent'})\n",
    "    \n",
    "    # retention таблица, для формирования heatmap визуализации   \n",
    "    retention = df_cohort.pivot(index='reg_time', columns='days_since_reg', values='percent')\n",
    "    retention = retention.divide(retention.iloc[:,0],axis=0).fillna(0).round(3)\n",
    "    \n",
    "    # настройка визуализации данных\n",
    "    plt.figure(figsize=(20, 15))\n",
    "    ax = sns.heatmap(retention, cmap=\"coolwarm\", annot=True, fmt=\".1%\", vmax=0.1)\n",
    "    ticklabels = [retention.index[int(tick)].strftime('%Y-%m-%d') for tick in ax.get_yticks()]\n",
    "    ax.set_yticklabels(ticklabels)\n",
    "    ax.set_title('Retention {} days from {} to {}'.format(n_day, start_date, finish_date ), fontsize=30)\n",
    "    ax.set(xlabel=\"Days since registration\", ylabel=\"Registration Day\")\n",
    "    sns.despine()\n",
    "    \n",
    "    \n",
    "    return retention"
   ]
  },
  {
   "cell_type": "code",
   "execution_count": 24,
   "metadata": {},
   "outputs": [
    {
     "data": {
      "text/html": [
       "<div>\n",
       "<style scoped>\n",
       "    .dataframe tbody tr th:only-of-type {\n",
       "        vertical-align: middle;\n",
       "    }\n",
       "\n",
       "    .dataframe tbody tr th {\n",
       "        vertical-align: top;\n",
       "    }\n",
       "\n",
       "    .dataframe thead th {\n",
       "        text-align: right;\n",
       "    }\n",
       "</style>\n",
       "<table border=\"1\" class=\"dataframe\">\n",
       "  <thead>\n",
       "    <tr style=\"text-align: right;\">\n",
       "      <th>days_since_reg</th>\n",
       "      <th>0</th>\n",
       "      <th>1</th>\n",
       "      <th>2</th>\n",
       "      <th>3</th>\n",
       "      <th>4</th>\n",
       "      <th>5</th>\n",
       "      <th>6</th>\n",
       "      <th>7</th>\n",
       "      <th>8</th>\n",
       "      <th>9</th>\n",
       "      <th>10</th>\n",
       "      <th>11</th>\n",
       "      <th>12</th>\n",
       "      <th>13</th>\n",
       "      <th>14</th>\n",
       "      <th>15</th>\n",
       "    </tr>\n",
       "    <tr>\n",
       "      <th>reg_time</th>\n",
       "      <th></th>\n",
       "      <th></th>\n",
       "      <th></th>\n",
       "      <th></th>\n",
       "      <th></th>\n",
       "      <th></th>\n",
       "      <th></th>\n",
       "      <th></th>\n",
       "      <th></th>\n",
       "      <th></th>\n",
       "      <th></th>\n",
       "      <th></th>\n",
       "      <th></th>\n",
       "      <th></th>\n",
       "      <th></th>\n",
       "      <th></th>\n",
       "    </tr>\n",
       "  </thead>\n",
       "  <tbody>\n",
       "    <tr>\n",
       "      <th>2018-07-01</th>\n",
       "      <td>1.0</td>\n",
       "      <td>0.028</td>\n",
       "      <td>0.039</td>\n",
       "      <td>0.049</td>\n",
       "      <td>0.077</td>\n",
       "      <td>0.060</td>\n",
       "      <td>0.086</td>\n",
       "      <td>0.067</td>\n",
       "      <td>0.049</td>\n",
       "      <td>0.074</td>\n",
       "      <td>0.053</td>\n",
       "      <td>0.046</td>\n",
       "      <td>0.081</td>\n",
       "      <td>0.042</td>\n",
       "      <td>0.035</td>\n",
       "      <td>0.058</td>\n",
       "    </tr>\n",
       "    <tr>\n",
       "      <th>2018-07-02</th>\n",
       "      <td>1.0</td>\n",
       "      <td>0.009</td>\n",
       "      <td>0.040</td>\n",
       "      <td>0.035</td>\n",
       "      <td>0.084</td>\n",
       "      <td>0.037</td>\n",
       "      <td>0.079</td>\n",
       "      <td>0.047</td>\n",
       "      <td>0.049</td>\n",
       "      <td>0.035</td>\n",
       "      <td>0.079</td>\n",
       "      <td>0.053</td>\n",
       "      <td>0.067</td>\n",
       "      <td>0.047</td>\n",
       "      <td>0.021</td>\n",
       "      <td>0.053</td>\n",
       "    </tr>\n",
       "    <tr>\n",
       "      <th>2018-07-03</th>\n",
       "      <td>1.0</td>\n",
       "      <td>0.019</td>\n",
       "      <td>0.039</td>\n",
       "      <td>0.051</td>\n",
       "      <td>0.046</td>\n",
       "      <td>0.042</td>\n",
       "      <td>0.058</td>\n",
       "      <td>0.058</td>\n",
       "      <td>0.030</td>\n",
       "      <td>0.060</td>\n",
       "      <td>0.044</td>\n",
       "      <td>0.053</td>\n",
       "      <td>0.032</td>\n",
       "      <td>0.049</td>\n",
       "      <td>0.049</td>\n",
       "      <td>0.049</td>\n",
       "    </tr>\n",
       "    <tr>\n",
       "      <th>2018-07-04</th>\n",
       "      <td>1.0</td>\n",
       "      <td>0.014</td>\n",
       "      <td>0.046</td>\n",
       "      <td>0.062</td>\n",
       "      <td>0.053</td>\n",
       "      <td>0.069</td>\n",
       "      <td>0.056</td>\n",
       "      <td>0.053</td>\n",
       "      <td>0.044</td>\n",
       "      <td>0.056</td>\n",
       "      <td>0.072</td>\n",
       "      <td>0.049</td>\n",
       "      <td>0.032</td>\n",
       "      <td>0.049</td>\n",
       "      <td>0.058</td>\n",
       "      <td>0.058</td>\n",
       "    </tr>\n",
       "    <tr>\n",
       "      <th>2018-07-05</th>\n",
       "      <td>1.0</td>\n",
       "      <td>0.009</td>\n",
       "      <td>0.028</td>\n",
       "      <td>0.048</td>\n",
       "      <td>0.051</td>\n",
       "      <td>0.058</td>\n",
       "      <td>0.065</td>\n",
       "      <td>0.065</td>\n",
       "      <td>0.030</td>\n",
       "      <td>0.046</td>\n",
       "      <td>0.065</td>\n",
       "      <td>0.051</td>\n",
       "      <td>0.053</td>\n",
       "      <td>0.046</td>\n",
       "      <td>0.046</td>\n",
       "      <td>0.046</td>\n",
       "    </tr>\n",
       "    <tr>\n",
       "      <th>2018-07-06</th>\n",
       "      <td>1.0</td>\n",
       "      <td>0.021</td>\n",
       "      <td>0.037</td>\n",
       "      <td>0.035</td>\n",
       "      <td>0.074</td>\n",
       "      <td>0.048</td>\n",
       "      <td>0.069</td>\n",
       "      <td>0.053</td>\n",
       "      <td>0.062</td>\n",
       "      <td>0.053</td>\n",
       "      <td>0.065</td>\n",
       "      <td>0.055</td>\n",
       "      <td>0.046</td>\n",
       "      <td>0.053</td>\n",
       "      <td>0.046</td>\n",
       "      <td>0.053</td>\n",
       "    </tr>\n",
       "    <tr>\n",
       "      <th>2018-07-07</th>\n",
       "      <td>1.0</td>\n",
       "      <td>0.016</td>\n",
       "      <td>0.037</td>\n",
       "      <td>0.060</td>\n",
       "      <td>0.037</td>\n",
       "      <td>0.053</td>\n",
       "      <td>0.076</td>\n",
       "      <td>0.048</td>\n",
       "      <td>0.046</td>\n",
       "      <td>0.044</td>\n",
       "      <td>0.053</td>\n",
       "      <td>0.046</td>\n",
       "      <td>0.046</td>\n",
       "      <td>0.046</td>\n",
       "      <td>0.030</td>\n",
       "      <td>0.041</td>\n",
       "    </tr>\n",
       "  </tbody>\n",
       "</table>\n",
       "</div>"
      ],
      "text/plain": [
       "days_since_reg   0      1      2      3      4      5      6      7      8   \\\n",
       "reg_time                                                                      \n",
       "2018-07-01      1.0  0.028  0.039  0.049  0.077  0.060  0.086  0.067  0.049   \n",
       "2018-07-02      1.0  0.009  0.040  0.035  0.084  0.037  0.079  0.047  0.049   \n",
       "2018-07-03      1.0  0.019  0.039  0.051  0.046  0.042  0.058  0.058  0.030   \n",
       "2018-07-04      1.0  0.014  0.046  0.062  0.053  0.069  0.056  0.053  0.044   \n",
       "2018-07-05      1.0  0.009  0.028  0.048  0.051  0.058  0.065  0.065  0.030   \n",
       "2018-07-06      1.0  0.021  0.037  0.035  0.074  0.048  0.069  0.053  0.062   \n",
       "2018-07-07      1.0  0.016  0.037  0.060  0.037  0.053  0.076  0.048  0.046   \n",
       "\n",
       "days_since_reg     9      10     11     12     13     14     15  \n",
       "reg_time                                                         \n",
       "2018-07-01      0.074  0.053  0.046  0.081  0.042  0.035  0.058  \n",
       "2018-07-02      0.035  0.079  0.053  0.067  0.047  0.021  0.053  \n",
       "2018-07-03      0.060  0.044  0.053  0.032  0.049  0.049  0.049  \n",
       "2018-07-04      0.056  0.072  0.049  0.032  0.049  0.058  0.058  \n",
       "2018-07-05      0.046  0.065  0.051  0.053  0.046  0.046  0.046  \n",
       "2018-07-06      0.053  0.065  0.055  0.046  0.053  0.046  0.053  \n",
       "2018-07-07      0.044  0.053  0.046  0.046  0.046  0.030  0.041  "
      ]
     },
     "execution_count": 24,
     "metadata": {},
     "output_type": "execute_result"
    },
    {
     "data": {
      "image/png": "[encoded data removed]",
      "text/plain": [
       "<Figure size 1440x1080 with 2 Axes>"
      ]
     },
     "metadata": {
      "needs_background": "light"
     },
     "output_type": "display_data"
    }
   ],
   "source": [
    "start_date = '2018-07-01'\n",
    "finish_date = '2018-07-07'\n",
    "n_day = 15\n",
    "retention_n_day(df_reg, df_auth, start_date, finish_date, n_day)"
   ]
  },
  {
   "cell_type": "markdown",
   "metadata": {},
   "source": [
    "##### Функция по подсчёту динамики retention\n",
    "В качестве аргументов функции будут выступать:\n",
    "* df_reg - датафрейм с данными регистрации пользователей\n",
    "* df_auth - датафрейм с данными авторизации пользователей\n",
    "* start_date2 - начальная дата сэмпла данных (min значение '1998-11-18', max значение '2020-09-23')\n",
    "* finish_date2 - конечная дата сэмпла данных (min значение '1998-11-18', max значение '2020-09-23')"
   ]
  },
  {
   "cell_type": "code",
   "execution_count": 25,
   "metadata": {},
   "outputs": [],
   "source": [
    "def dynamic_retention(df_reg, df_auth, start_date2, finish_date2):\n",
    "    start_date2 = pd.to_datetime(start_date2).strftime('%Y-%m-%d')\n",
    "    finish_date2 = pd.to_datetime(finish_date2).strftime('%Y-%m-%d')\n",
    "    \n",
    "    # объединение df регистрации и авторизации по id пользователя\n",
    "    df_general2 = df_auth.merge(df_reg, on='uid')\n",
    "    \n",
    "    # перевод в корректное отображение дат из формата ts\n",
    "    df_general2['reg_time'] = pd.to_datetime(df_general2.reg_ts, unit='s').dt.round('d')\n",
    "    df_general2['auth_time'] = pd.to_datetime(df_general2.auth_ts, unit='s').dt.round('d')\n",
    "    \n",
    "    # удаление столбцов даты формата ts\n",
    "    df_general2 = df_general2.drop(['reg_ts', 'auth_ts'], axis=1)\n",
    "    \n",
    "    # создание столбца с количеством дней прошедших с начала регистрации для каждого случая авторизации\n",
    "    df_general2['days_since_reg'] = (df_general2['auth_time'] - df_general2['reg_time']).dt.days\n",
    "    \n",
    "    # сэмплирование данных по интересующему нас пробежутку времени\n",
    "    df_sample2 = df_general2[(df_general2['reg_time'] >= start_date2) & (df_general2['reg_time'] <= finish_date2)]\n",
    "    \n",
    "    # данные по динамике retention\n",
    "    dynamic_retention = df_general2.groupby('days_since_reg')['uid'].nunique() / df_general2['uid'].nunique()*100\n",
    "\n",
    "    # настройка визуализации данных\n",
    "    plt.figure(figsize=(15, 10))\n",
    "    plt.plot(dynamic_retention)\n",
    "    plt.title(\"Retention dynamics\")\n",
    "    plt.xlabel(\"Days since user first started\")\n",
    "    plt.ylabel(\"Percent of users retained\")\n",
    "    plt.ylim(0,10)\n",
    "    plt.xlim(1,70)\n",
    "\n",
    "    plt.hlines(y=dynamic_retention.loc[50], xmin=0, xmax=50, linestyles='dotted')\n",
    "    plt.vlines(x=50, ymin=0, ymax=dynamic_retention.loc[50], linestyles='dotted')\n",
    "    plt.text(s=(\"Ex: There were {:.2}% users retained on Day 50\".format(dynamic_retention.loc[50])),\n",
    "            x=50, y=dynamic_retention.loc[50] + .05);"
   ]
  },
  {
   "cell_type": "code",
   "execution_count": 26,
   "metadata": {},
   "outputs": [
    {
     "data": {
      "image/png": "[encoded data removed]",
      "text/plain": [
       "<Figure size 1080x720 with 1 Axes>"
      ]
     },
     "metadata": {
      "needs_background": "light"
     },
     "output_type": "display_data"
    }
   ],
   "source": [
    "start_date2 = '2018-01-01'\n",
    "finish_date2 = '2018-02-01'\n",
    "dynamic_retention(df_reg, df_auth, start_date2, finish_date2)"
   ]
  },
  {
   "cell_type": "markdown",
   "metadata": {},
   "source": [
    "###### Дополнительные графики и таблицы для выдачи некоторых рекомендаций"
   ]
  },
  {
   "cell_type": "code",
   "execution_count": 27,
   "metadata": {},
   "outputs": [
    {
     "data": {
      "text/plain": [
       "<matplotlib.axes._subplots.AxesSubplot at 0x7f63f337a588>"
      ]
     },
     "execution_count": 27,
     "metadata": {},
     "output_type": "execute_result"
    },
    {
     "data": {
      "image/png": "[encoded data removed]",
      "text/plain": [
       "<Figure size 1080x504 with 1 Axes>"
      ]
     },
     "metadata": {},
     "output_type": "display_data"
    }
   ],
   "source": [
    "df_reg['reg_date'] = pd.to_datetime(df_reg.reg_ts, unit='s').dt.round('d')\n",
    "sns.set(rc={'figure.figsize':(15, 7)})\n",
    "sns.histplot(df_reg.reg_date)"
   ]
  },
  {
   "cell_type": "code",
   "execution_count": 28,
   "metadata": {},
   "outputs": [],
   "source": [
    "\n",
    "df_reg1 = df_reg\n",
    "df_reg['reg_time'] = pd.to_datetime(df_reg.reg_ts, unit = 's')\n",
    "df_reg1['reg_year'] = df_reg1['reg_time'].values.astype('datetime64[Y]')\n",
    "df_reg1['reg_year'] = df_reg1['reg_year'].dt.year\n",
    "reg_by_year = df_reg1.groupby('reg_year', as_index=False).agg({'uid':'nunique'})"
   ]
  },
  {
   "cell_type": "code",
   "execution_count": 29,
   "metadata": {},
   "outputs": [
    {
     "data": {
      "text/html": [
       "<div>\n",
       "<style scoped>\n",
       "    .dataframe tbody tr th:only-of-type {\n",
       "        vertical-align: middle;\n",
       "    }\n",
       "\n",
       "    .dataframe tbody tr th {\n",
       "        vertical-align: top;\n",
       "    }\n",
       "\n",
       "    .dataframe thead th {\n",
       "        text-align: right;\n",
       "    }\n",
       "</style>\n",
       "<table border=\"1\" class=\"dataframe\">\n",
       "  <thead>\n",
       "    <tr style=\"text-align: right;\">\n",
       "      <th></th>\n",
       "      <th>reg_year</th>\n",
       "      <th>uid</th>\n",
       "    </tr>\n",
       "  </thead>\n",
       "  <tbody>\n",
       "    <tr>\n",
       "      <th>0</th>\n",
       "      <td>1998</td>\n",
       "      <td>1</td>\n",
       "    </tr>\n",
       "    <tr>\n",
       "      <th>1</th>\n",
       "      <td>1999</td>\n",
       "      <td>1</td>\n",
       "    </tr>\n",
       "    <tr>\n",
       "      <th>2</th>\n",
       "      <td>2000</td>\n",
       "      <td>4</td>\n",
       "    </tr>\n",
       "    <tr>\n",
       "      <th>3</th>\n",
       "      <td>2001</td>\n",
       "      <td>6</td>\n",
       "    </tr>\n",
       "    <tr>\n",
       "      <th>4</th>\n",
       "      <td>2002</td>\n",
       "      <td>10</td>\n",
       "    </tr>\n",
       "    <tr>\n",
       "      <th>5</th>\n",
       "      <td>2003</td>\n",
       "      <td>20</td>\n",
       "    </tr>\n",
       "    <tr>\n",
       "      <th>6</th>\n",
       "      <td>2004</td>\n",
       "      <td>35</td>\n",
       "    </tr>\n",
       "    <tr>\n",
       "      <th>7</th>\n",
       "      <td>2005</td>\n",
       "      <td>65</td>\n",
       "    </tr>\n",
       "    <tr>\n",
       "      <th>8</th>\n",
       "      <td>2006</td>\n",
       "      <td>119</td>\n",
       "    </tr>\n",
       "    <tr>\n",
       "      <th>9</th>\n",
       "      <td>2007</td>\n",
       "      <td>216</td>\n",
       "    </tr>\n",
       "    <tr>\n",
       "      <th>10</th>\n",
       "      <td>2008</td>\n",
       "      <td>394</td>\n",
       "    </tr>\n",
       "    <tr>\n",
       "      <th>11</th>\n",
       "      <td>2009</td>\n",
       "      <td>718</td>\n",
       "    </tr>\n",
       "    <tr>\n",
       "      <th>12</th>\n",
       "      <td>2010</td>\n",
       "      <td>1308</td>\n",
       "    </tr>\n",
       "    <tr>\n",
       "      <th>13</th>\n",
       "      <td>2011</td>\n",
       "      <td>2385</td>\n",
       "    </tr>\n",
       "    <tr>\n",
       "      <th>14</th>\n",
       "      <td>2012</td>\n",
       "      <td>4361</td>\n",
       "    </tr>\n",
       "    <tr>\n",
       "      <th>15</th>\n",
       "      <td>2013</td>\n",
       "      <td>7932</td>\n",
       "    </tr>\n",
       "    <tr>\n",
       "      <th>16</th>\n",
       "      <td>2014</td>\n",
       "      <td>14455</td>\n",
       "    </tr>\n",
       "    <tr>\n",
       "      <th>17</th>\n",
       "      <td>2015</td>\n",
       "      <td>26344</td>\n",
       "    </tr>\n",
       "    <tr>\n",
       "      <th>18</th>\n",
       "      <td>2016</td>\n",
       "      <td>48187</td>\n",
       "    </tr>\n",
       "    <tr>\n",
       "      <th>19</th>\n",
       "      <td>2017</td>\n",
       "      <td>87645</td>\n",
       "    </tr>\n",
       "    <tr>\n",
       "      <th>20</th>\n",
       "      <td>2018</td>\n",
       "      <td>159729</td>\n",
       "    </tr>\n",
       "    <tr>\n",
       "      <th>21</th>\n",
       "      <td>2019</td>\n",
       "      <td>291102</td>\n",
       "    </tr>\n",
       "    <tr>\n",
       "      <th>22</th>\n",
       "      <td>2020</td>\n",
       "      <td>354963</td>\n",
       "    </tr>\n",
       "  </tbody>\n",
       "</table>\n",
       "</div>"
      ],
      "text/plain": [
       "    reg_year     uid\n",
       "0       1998       1\n",
       "1       1999       1\n",
       "2       2000       4\n",
       "3       2001       6\n",
       "4       2002      10\n",
       "5       2003      20\n",
       "6       2004      35\n",
       "7       2005      65\n",
       "8       2006     119\n",
       "9       2007     216\n",
       "10      2008     394\n",
       "11      2009     718\n",
       "12      2010    1308\n",
       "13      2011    2385\n",
       "14      2012    4361\n",
       "15      2013    7932\n",
       "16      2014   14455\n",
       "17      2015   26344\n",
       "18      2016   48187\n",
       "19      2017   87645\n",
       "20      2018  159729\n",
       "21      2019  291102\n",
       "22      2020  354963"
      ]
     },
     "execution_count": 29,
     "metadata": {},
     "output_type": "execute_result"
    }
   ],
   "source": [
    "# Таблица распределения зарегистрированных пользователей по годам\n",
    "reg_by_year"
   ]
  },
  {
   "cell_type": "code",
   "execution_count": 30,
   "metadata": {},
   "outputs": [
    {
     "data": {
      "text/plain": [
       "<matplotlib.axes._subplots.AxesSubplot at 0x7f6418b5cb00>"
      ]
     },
     "execution_count": 30,
     "metadata": {},
     "output_type": "execute_result"
    },
    {
     "data": {
      "image/png": "[encoded data removed]",
      "text/plain": [
       "<Figure size 1080x504 with 1 Axes>"
      ]
     },
     "metadata": {},
     "output_type": "display_data"
    }
   ],
   "source": [
    "df_auth['auth_date'] = pd.to_datetime(df_auth.auth_ts, unit='s').dt.round('d')\n",
    "sns.set(rc={'figure.figsize':(15, 7)})\n",
    "sns.histplot(df_auth.auth_date)"
   ]
  },
  {
   "cell_type": "markdown",
   "metadata": {},
   "source": [
    "###### Выводы\n",
    "Из дополнительных данных можно предположить, что первые несколько лет приложение скорее всего тестировалось командой разработчиков/тестировщиков. И для корректого вычисления вычисления retention стоит использовать более поздние приоды работы приложения.\n",
    "Судя по выбросам даннх в графиках авторизации и регистрации, скорее всего происходят некоторые события, которые подогревают интерес пользователей, а так же позволяющие добиться притока новых юзеров. По этой же причине скорее всего мы видим некоторый всплеск retenrion на тепловой карте на 6й день. "
   ]
  },
  {
   "cell_type": "code",
   "execution_count": null,
   "metadata": {},
   "outputs": [],
   "source": []
  },
  {
   "cell_type": "markdown",
   "metadata": {},
   "source": [
    "### Задание 2\n",
    "Имеются результаты A/B теста, в котором двум группам пользователей предлагались различные наборы акционных предложений. Известно, что ARPU в тестовой группе выше на 5%, чем в контрольной. При этом в контрольной группе 1928 игроков из 202103 оказались платящими, а в тестовой – 1805 из 202667.\n",
    "\n",
    "Какой набор предложений можно считать лучшим? Какие метрики стоит проанализировать для принятия правильного решения и как?"
   ]
  },
  {
   "cell_type": "code",
   "execution_count": 31,
   "metadata": {},
   "outputs": [],
   "source": [
    "# импорт данных\n",
    "public_key = 'https://disk.yandex.ru/d/12gk_ATEeBZm4A'\n",
    "base_url = 'https://cloud-api.yandex.net/v1/disk/public/resources/download?' \n",
    "final_url = base_url + urlencode(dict(public_key=public_key))\n",
    "response = requests.get(final_url) \n",
    "download_url = response.json()['href']\n",
    "download_response = requests.get(download_url)\n",
    "ab_test = pd.read_csv(download_url, sep=';')"
   ]
  },
  {
   "cell_type": "code",
   "execution_count": 32,
   "metadata": {},
   "outputs": [
    {
     "data": {
      "text/html": [
       "<div>\n",
       "<style scoped>\n",
       "    .dataframe tbody tr th:only-of-type {\n",
       "        vertical-align: middle;\n",
       "    }\n",
       "\n",
       "    .dataframe tbody tr th {\n",
       "        vertical-align: top;\n",
       "    }\n",
       "\n",
       "    .dataframe thead th {\n",
       "        text-align: right;\n",
       "    }\n",
       "</style>\n",
       "<table border=\"1\" class=\"dataframe\">\n",
       "  <thead>\n",
       "    <tr style=\"text-align: right;\">\n",
       "      <th></th>\n",
       "      <th>user_id</th>\n",
       "      <th>revenue</th>\n",
       "      <th>testgroup</th>\n",
       "    </tr>\n",
       "  </thead>\n",
       "  <tbody>\n",
       "    <tr>\n",
       "      <th>0</th>\n",
       "      <td>1</td>\n",
       "      <td>0</td>\n",
       "      <td>b</td>\n",
       "    </tr>\n",
       "    <tr>\n",
       "      <th>1</th>\n",
       "      <td>2</td>\n",
       "      <td>0</td>\n",
       "      <td>a</td>\n",
       "    </tr>\n",
       "    <tr>\n",
       "      <th>2</th>\n",
       "      <td>3</td>\n",
       "      <td>0</td>\n",
       "      <td>a</td>\n",
       "    </tr>\n",
       "    <tr>\n",
       "      <th>3</th>\n",
       "      <td>4</td>\n",
       "      <td>0</td>\n",
       "      <td>b</td>\n",
       "    </tr>\n",
       "    <tr>\n",
       "      <th>4</th>\n",
       "      <td>5</td>\n",
       "      <td>0</td>\n",
       "      <td>b</td>\n",
       "    </tr>\n",
       "  </tbody>\n",
       "</table>\n",
       "</div>"
      ],
      "text/plain": [
       "   user_id  revenue testgroup\n",
       "0        1        0         b\n",
       "1        2        0         a\n",
       "2        3        0         a\n",
       "3        4        0         b\n",
       "4        5        0         b"
      ]
     },
     "execution_count": 32,
     "metadata": {},
     "output_type": "execute_result"
    }
   ],
   "source": [
    "# предобработка данных\n",
    "ab_test.head()"
   ]
  },
  {
   "cell_type": "code",
   "execution_count": 33,
   "metadata": {},
   "outputs": [
    {
     "data": {
      "text/plain": [
       "404770"
      ]
     },
     "execution_count": 33,
     "metadata": {},
     "output_type": "execute_result"
    }
   ],
   "source": [
    "# количество строк\n",
    "ab_test.shape[0]"
   ]
  },
  {
   "cell_type": "code",
   "execution_count": 34,
   "metadata": {},
   "outputs": [
    {
     "data": {
      "text/plain": [
       "user_id       int64\n",
       "revenue       int64\n",
       "testgroup    object\n",
       "dtype: object"
      ]
     },
     "execution_count": 34,
     "metadata": {},
     "output_type": "execute_result"
    }
   ],
   "source": [
    "# проверка типов данных\n",
    "ab_test.dtypes"
   ]
  },
  {
   "cell_type": "code",
   "execution_count": 35,
   "metadata": {},
   "outputs": [
    {
     "data": {
      "text/plain": [
       "user_id      0\n",
       "revenue      0\n",
       "testgroup    0\n",
       "dtype: int64"
      ]
     },
     "execution_count": 35,
     "metadata": {},
     "output_type": "execute_result"
    }
   ],
   "source": [
    "# проверка наличия пропущенных значений\n",
    "ab_test.isna().sum()"
   ]
  },
  {
   "cell_type": "code",
   "execution_count": 36,
   "metadata": {},
   "outputs": [
    {
     "data": {
      "text/html": [
       "<div>\n",
       "<style scoped>\n",
       "    .dataframe tbody tr th:only-of-type {\n",
       "        vertical-align: middle;\n",
       "    }\n",
       "\n",
       "    .dataframe tbody tr th {\n",
       "        vertical-align: top;\n",
       "    }\n",
       "\n",
       "    .dataframe thead th {\n",
       "        text-align: right;\n",
       "    }\n",
       "</style>\n",
       "<table border=\"1\" class=\"dataframe\">\n",
       "  <thead>\n",
       "    <tr style=\"text-align: right;\">\n",
       "      <th></th>\n",
       "      <th>user_id</th>\n",
       "    </tr>\n",
       "    <tr>\n",
       "      <th>testgroup</th>\n",
       "      <th></th>\n",
       "    </tr>\n",
       "  </thead>\n",
       "  <tbody>\n",
       "    <tr>\n",
       "      <th>a</th>\n",
       "      <td>1928</td>\n",
       "    </tr>\n",
       "    <tr>\n",
       "      <th>b</th>\n",
       "      <td>1805</td>\n",
       "    </tr>\n",
       "  </tbody>\n",
       "</table>\n",
       "</div>"
      ],
      "text/plain": [
       "           user_id\n",
       "testgroup         \n",
       "a             1928\n",
       "b             1805"
      ]
     },
     "execution_count": 36,
     "metadata": {},
     "output_type": "execute_result"
    }
   ],
   "source": [
    "# проверка количества человек в каждой из тестовых групп на соответствие\n",
    "ab_test.query('revenue > 0').groupby('testgroup').agg({'user_id':'nunique'})"
   ]
  },
  {
   "cell_type": "markdown",
   "metadata": {},
   "source": [
    "Проведение вычисления ARPU, ARPPU & CR метрик"
   ]
  },
  {
   "cell_type": "code",
   "execution_count": 37,
   "metadata": {},
   "outputs": [
    {
     "data": {
      "text/plain": [
       "testgroup\n",
       "a    25.41\n",
       "b    26.75\n",
       "Name: revenue, dtype: float64"
      ]
     },
     "execution_count": 37,
     "metadata": {},
     "output_type": "execute_result"
    }
   ],
   "source": [
    "ARPU = ab_test.groupby('testgroup').revenue.mean().round(2)\n",
    "ARPU"
   ]
  },
  {
   "cell_type": "code",
   "execution_count": 38,
   "metadata": {},
   "outputs": [
    {
     "data": {
      "text/plain": [
       "testgroup\n",
       "a    2664.00\n",
       "b    3003.66\n",
       "Name: revenue, dtype: float64"
      ]
     },
     "execution_count": 38,
     "metadata": {},
     "output_type": "execute_result"
    }
   ],
   "source": [
    "ARPPU = ab_test.query('revenue > 0').groupby('testgroup').revenue.mean().round(2)\n",
    "ARPPU"
   ]
  },
  {
   "cell_type": "code",
   "execution_count": 39,
   "metadata": {},
   "outputs": [
    {
     "data": {
      "text/html": [
       "<div>\n",
       "<style scoped>\n",
       "    .dataframe tbody tr th:only-of-type {\n",
       "        vertical-align: middle;\n",
       "    }\n",
       "\n",
       "    .dataframe tbody tr th {\n",
       "        vertical-align: top;\n",
       "    }\n",
       "\n",
       "    .dataframe thead th {\n",
       "        text-align: right;\n",
       "    }\n",
       "</style>\n",
       "<table border=\"1\" class=\"dataframe\">\n",
       "  <thead>\n",
       "    <tr style=\"text-align: right;\">\n",
       "      <th></th>\n",
       "      <th>user_id</th>\n",
       "    </tr>\n",
       "    <tr>\n",
       "      <th>testgroup</th>\n",
       "      <th></th>\n",
       "    </tr>\n",
       "  </thead>\n",
       "  <tbody>\n",
       "    <tr>\n",
       "      <th>a</th>\n",
       "      <td>0.95</td>\n",
       "    </tr>\n",
       "    <tr>\n",
       "      <th>b</th>\n",
       "      <td>0.89</td>\n",
       "    </tr>\n",
       "  </tbody>\n",
       "</table>\n",
       "</div>"
      ],
      "text/plain": [
       "           user_id\n",
       "testgroup         \n",
       "a             0.95\n",
       "b             0.89"
      ]
     },
     "execution_count": 39,
     "metadata": {},
     "output_type": "execute_result"
    }
   ],
   "source": [
    "CR = (ab_test.query('revenue > 0').groupby('testgroup').agg({'user_id':'nunique'})\n",
    "      /ab_test.groupby('testgroup').agg({'user_id':'nunique'})*100).round(2)\n",
    "CR"
   ]
  },
  {
   "cell_type": "code",
   "execution_count": 40,
   "metadata": {},
   "outputs": [],
   "source": [
    "# Вычисление на сколько в процентном отношении метрики отличаются между группами\n",
    "ARPU_a = ab_test.query(\"testgroup == 'a'\").revenue.mean()\n",
    "ARPU_b = ab_test.query(\"testgroup == 'b'\").revenue.mean()\n",
    "ARPPU_a = ab_test.query(\"revenue > 0 and testgroup == 'a'\").revenue.mean()\n",
    "ARPPU_b = ab_test.query(\"revenue > 0 and testgroup == 'b'\").revenue.mean()\n",
    "delta_ARPU = ((ARPU_a - ARPU_b)/ARPU_b*100).round(2)\n",
    "delta_ARPPU = ((ARPPU_a - ARPPU_b)/ARPPU_b*100).round(2)\n",
    "CR_a = ab_test.query(\"testgroup == 'a' and revenue > 0\").user_id.nunique()/ab_test.query(\"testgroup == 'a'\").user_id.nunique()\n",
    "CR_b = ab_test.query(\"testgroup == 'b' and revenue > 0\").user_id.nunique()/ab_test.query(\"testgroup == 'b'\").user_id.nunique()\n",
    "delta_CR = round((CR_a - CR_b)/CR_b*100, 2) "
   ]
  },
  {
   "cell_type": "code",
   "execution_count": 41,
   "metadata": {},
   "outputs": [
    {
     "data": {
      "text/plain": [
       "-5.0"
      ]
     },
     "execution_count": 41,
     "metadata": {},
     "output_type": "execute_result"
    }
   ],
   "source": [
    "delta_ARPU\n",
    "# a - контрольная группа\n",
    "# b - тестовая группа"
   ]
  },
  {
   "cell_type": "code",
   "execution_count": 42,
   "metadata": {},
   "outputs": [
    {
     "data": {
      "text/plain": [
       "-11.31"
      ]
     },
     "execution_count": 42,
     "metadata": {},
     "output_type": "execute_result"
    }
   ],
   "source": [
    "delta_ARPPU"
   ]
  },
  {
   "cell_type": "code",
   "execution_count": 43,
   "metadata": {},
   "outputs": [
    {
     "data": {
      "text/plain": [
       "7.11"
      ]
     },
     "execution_count": 43,
     "metadata": {},
     "output_type": "execute_result"
    }
   ],
   "source": [
    "delta_CR"
   ]
  },
  {
   "cell_type": "code",
   "execution_count": 44,
   "metadata": {},
   "outputs": [
    {
     "data": {
      "image/png": "[encoded data removed]",
      "text/plain": [
       "<Figure size 1080x360 with 1 Axes>"
      ]
     },
     "metadata": {},
     "output_type": "display_data"
    }
   ],
   "source": [
    "# С помощью гистограммы оценим распределение количества клиентов \n",
    "# (т.е. пользователей, которые провели оплату) в зависимости от группы\n",
    "plt.figure(figsize=(15, 5))\n",
    "sns.histplot(x = 'revenue', data = ab_test.query('revenue > 0'), hue = 'testgroup');"
   ]
  },
  {
   "cell_type": "markdown",
   "metadata": {},
   "source": [
    "Примечательным является то, что контрольная группа не является монолитной, а состоит из двух подгрупп. Попробуем оценить являются ли группа клиентов платящих большие суммы выбросом."
   ]
  },
  {
   "cell_type": "code",
   "execution_count": 45,
   "metadata": {},
   "outputs": [
    {
     "data": {
      "text/plain": [
       "1805"
      ]
     },
     "metadata": {},
     "output_type": "display_data"
    },
    {
     "data": {
      "text/plain": [
       "545937"
      ]
     },
     "metadata": {},
     "output_type": "display_data"
    }
   ],
   "source": [
    "#Расчёт количества клиентов контрольной группы в совершающих небольшие транзакции, \n",
    "# а также общей суммы полученной с таких клиентов.\n",
    "display (ab_test.query('testgroup == \"a\" and revenue < 35000 and revenue > 0').user_id.nunique(), \n",
    "ab_test.query('revenue < 1000 and revenue > 0').revenue.sum())"
   ]
  },
  {
   "cell_type": "code",
   "execution_count": 46,
   "metadata": {},
   "outputs": [
    {
     "data": {
      "text/plain": [
       "123"
      ]
     },
     "metadata": {},
     "output_type": "display_data"
    },
    {
     "data": {
      "text/plain": [
       "4590252"
      ]
     },
     "metadata": {},
     "output_type": "display_data"
    }
   ],
   "source": [
    "# Расчёт количества клиентов контрольной группы совершающих крупные транзакции, \n",
    "# а также общей суммы полученной с таких клиентов.\n",
    "display (ab_test.query('revenue > 35000').user_id.nunique(),\n",
    "ab_test.query('revenue > 35000').revenue.sum())"
   ]
  },
  {
   "cell_type": "code",
   "execution_count": 47,
   "metadata": {},
   "outputs": [
    {
     "data": {
      "text/plain": [
       "10.63"
      ]
     },
     "metadata": {},
     "output_type": "display_data"
    },
    {
     "data": {
      "text/plain": [
       "89.37"
      ]
     },
     "metadata": {},
     "output_type": "display_data"
    }
   ],
   "source": [
    "# Расчёт процентного соотношения подгрупп контрольной группы\n",
    "display ((ab_test.query('revenue < 1000 and revenue > 0').revenue.sum()/ab_test.query(\"testgroup == 'a'\").revenue.sum()*100).round(2),\n",
    "         (100 - ab_test.query('revenue < 1000 and revenue > 0').revenue.sum()/ab_test.query(\"testgroup == 'a'\").revenue.sum()*100).round(2))"
   ]
  },
  {
   "cell_type": "code",
   "execution_count": 48,
   "metadata": {},
   "outputs": [
    {
     "data": {
      "text/plain": [
       "6.38"
      ]
     },
     "execution_count": 48,
     "metadata": {},
     "output_type": "execute_result"
    }
   ],
   "source": [
    "# Процент клиентов совершающих крупные суммы транзакций относительно общего количества клиентов контрольной группы.\n",
    "round((ab_test.query('testgroup == \"a\" and revenue > 35000').user_id.nunique()\n",
    "       /ab_test.query('testgroup == \"a\" and revenue > 0').user_id.nunique()*100),2)"
   ]
  },
  {
   "cell_type": "markdown",
   "metadata": {},
   "source": [
    "Мы имеем дело с прибылью, по-этому нельзя игнорировать массив клиентов, котрые делают 90% прибыли. Исходя из произведённых расчётов сделаем предположение, что акционная модель контрольной группы нацелена как раз на пользователей, которые совершают крупные суммы транзакций (свыше 35000), а прибыль с остальных пользователей является сопутствующей.\n",
    "\n",
    "Перейдём к проверке статистической значимости полученных результатов."
   ]
  },
  {
   "cell_type": "code",
   "execution_count": 49,
   "metadata": {},
   "outputs": [],
   "source": [
    "# предварительно для упрощения разобъём общий датафрейм на два: данные контрольной группы и данные тестовой группы по всем юзерам\n",
    "df_a = ab_test.query(\"testgroup == 'a'\")\n",
    "df_b = ab_test.query(\"testgroup == 'b'\")\n",
    "# предварительно для упрощения разобъём общий датафрейм на два: данные контрольной группы и данные тестовой группы по клиентам\n",
    "df_a_rev = ab_test.query(\"testgroup == 'a' and revenue > 0\")\n",
    "df_b_rev = ab_test.query(\"testgroup == 'b' and revenue > 0\")"
   ]
  },
  {
   "cell_type": "code",
   "execution_count": 50,
   "metadata": {},
   "outputs": [],
   "source": [
    "# Для начала используем тест Шапиро-Вилка для проверки нормальности распределения в группах\n",
    "# Нулевая гипотеза (H0): распределение значений revenue в группе нормальное\n",
    "# Альтернативная гипотеза (H1): распределений значений revenue в групе не нормальное"
   ]
  },
  {
   "cell_type": "code",
   "execution_count": 51,
   "metadata": {},
   "outputs": [
    {
     "name": "stdout",
     "output_type": "stream",
     "text": [
      "Statistics=0.267, p-value=0.000\n"
     ]
    }
   ],
   "source": [
    "# Контрольная группа\n",
    "stat, p = ss.shapiro(df_a_rev['revenue'])\n",
    "print('Statistics=%.3f, p-value=%.3f' % (stat, p))"
   ]
  },
  {
   "cell_type": "code",
   "execution_count": 52,
   "metadata": {},
   "outputs": [
    {
     "name": "stdout",
     "output_type": "stream",
     "text": [
      "Statistics=0.958, p-value=0.000\n"
     ]
    }
   ],
   "source": [
    "# Тестовая группа\n",
    "stat, p = ss.shapiro(df_b_rev['revenue'])\n",
    "print('Statistics=%.3f, p-value=%.3f' % (stat, p))"
   ]
  },
  {
   "cell_type": "markdown",
   "metadata": {},
   "source": [
    "###### Вывод: \n",
    "отклоняем нулевую гипотезу о нормальности распределений каждой из групп"
   ]
  },
  {
   "cell_type": "markdown",
   "metadata": {},
   "source": [
    "Несмотря на то, что мы отклонили гипотезу о нормальности распределения значений в тестовой и контрольной группе, проверим возможность использования T-критерия Стьюдента. Данные выборок по акционным предложениям довольно большие. Необходимо проверить требование гомогенности дисперсий внутри наших групп - они должны быть примерно равны. Это мы можем проверить с помощью критерия Левена"
   ]
  },
  {
   "cell_type": "code",
   "execution_count": 53,
   "metadata": {},
   "outputs": [
    {
     "data": {
      "text/plain": [
       "LeveneResult(statistic=0.3896289474701388, pvalue=0.5324948591043842)"
      ]
     },
     "execution_count": 53,
     "metadata": {},
     "output_type": "execute_result"
    }
   ],
   "source": [
    "# критерий Левена\n",
    "# Нулевая гипотеза (H0): Дисперсии внутри тестовой и контрольной группы примерно равны (p-value > 0.05)\n",
    "# Альтернативная гипотеза (H1): Дисперсии внутри тестовой и контрольной группы различаются (p-value < 0.05)\n",
    "ss.levene(df_a.revenue,df_b.revenue)"
   ]
  },
  {
   "cell_type": "markdown",
   "metadata": {},
   "source": [
    "###### Вывод:\n",
    "отколнить нулевую гипотезу нельзя. Требование гомогенности дисперсий соблюдается.\n",
    "Возможно использование Т-критерия Стьюдента."
   ]
  },
  {
   "cell_type": "markdown",
   "metadata": {},
   "source": [
    "### ARPU\n",
    "По условию задачи известно, что ARPU в тестовой группе выше на 5%, чем в контрольной. Проверим является ли эта разница статистически значимой с помощью методов t-test, Манна-Уитни и Bootstrap"
   ]
  },
  {
   "cell_type": "markdown",
   "metadata": {},
   "source": [
    "###### Гипотезы\n",
    "* Н0 - разница в значениях revenue между тестовой и контрольной отсутствует (если р-уровень значимости больше 0.05)\n",
    "* Н1 - разница в значениях revenue существует (р-уровень значимости меньше 0.05)"
   ]
  },
  {
   "cell_type": "code",
   "execution_count": 54,
   "metadata": {},
   "outputs": [
    {
     "data": {
      "text/plain": [
       "Ttest_indResult(statistic=-0.6242026493616787, pvalue=0.532494858971837)"
      ]
     },
     "execution_count": 54,
     "metadata": {},
     "output_type": "execute_result"
    }
   ],
   "source": [
    "# t-test\n",
    "ss.ttest_ind(df_a.revenue,df_b.revenue)"
   ]
  },
  {
   "cell_type": "markdown",
   "metadata": {},
   "source": [
    "Отклоняем альтернативную гипотезу"
   ]
  },
  {
   "cell_type": "code",
   "execution_count": 55,
   "metadata": {},
   "outputs": [
    {
     "data": {
      "text/plain": [
       "MannwhitneyuResult(statistic=20491259376.0, pvalue=0.06269701316074398)"
      ]
     },
     "execution_count": 55,
     "metadata": {},
     "output_type": "execute_result"
    }
   ],
   "source": [
    "# непараметрический критерий Манна-Уитни\n",
    "ss.mannwhitneyu(df_a.revenue, df_b.revenue)"
   ]
  },
  {
   "cell_type": "markdown",
   "metadata": {},
   "source": [
    "Отклоняем альтернативную гипотезу"
   ]
  },
  {
   "cell_type": "markdown",
   "metadata": {},
   "source": [
    "###### Гипотезы\n",
    "* Н0 - разница в средних значениях ARPU в обоих группах отсутствует, если р-уровень значимости больше 0.05\n",
    "* Н1 - разница существует, если р-уровень значимости меньше 0.05"
   ]
  },
  {
   "cell_type": "code",
   "execution_count": 56,
   "metadata": {},
   "outputs": [],
   "source": [
    "def get_bootstrap(\n",
    "    data_column_1, # числовые значения первой выборки\n",
    "    data_column_2, # числовые значения второй выборки\n",
    "    boot_it = 1000, # количество бутстрэп-подвыборок\n",
    "    statistic = np.mean, # интересующая нас статистика\n",
    "    bootstrap_conf_level = 0.95 # уровень значимости\n",
    "):\n",
    "    boot_data = []\n",
    "    for i in tqdm(range(boot_it)): # извлекаем подвыборки\n",
    "        samples_1 = data_column_1.sample(\n",
    "            len(data_column_1), \n",
    "            replace = True # параметр возвращения\n",
    "        ).values\n",
    "        \n",
    "        samples_2 = data_column_2.sample(\n",
    "            len(data_column_1), \n",
    "            replace = True\n",
    "        ).values\n",
    "        \n",
    "        boot_data.append(statistic(samples_1)-statistic(samples_2)) # mean() - применяем статистику\n",
    "        \n",
    "    pd_boot_data = pd.DataFrame(boot_data)\n",
    "        \n",
    "    left_quant = (1 - bootstrap_conf_level)/2\n",
    "    right_quant = 1 - (1 - bootstrap_conf_level) / 2\n",
    "    quants = pd_boot_data.quantile([left_quant, right_quant])\n",
    "        \n",
    "    p_1 = norm.cdf(\n",
    "        x = 0, \n",
    "        loc = np.mean(boot_data), \n",
    "        scale = np.std(boot_data)\n",
    "    )\n",
    "    p_2 = norm.cdf(\n",
    "        x = 0, \n",
    "        loc = -np.mean(boot_data), \n",
    "        scale = np.std(boot_data)\n",
    "    )\n",
    "    p_value = min(p_1, p_2) * 2\n",
    "        \n",
    "    # Визуализация\n",
    "    plt.figure(figsize=(10,6))\n",
    "    _, _, bars = plt.hist(pd_boot_data[0], bins = 50)\n",
    "    for bar in bars:\n",
    "        if bar.get_x() <= quants.iloc[0][0] or bar.get_x() >= quants.iloc[1][0]:\n",
    "            bar.set_facecolor('red')\n",
    "            bar.set_edgecolor('black')\n",
    "        else: \n",
    "            bar.set_facecolor('blue')\n",
    "            bar.set_edgecolor('black')\n",
    "    \n",
    "    plt.style.use('ggplot')\n",
    "    plt.vlines(quants,ymin=0,ymax=50,linestyle='--')\n",
    "    plt.xlabel('boot_data')\n",
    "    plt.ylabel('frequency')\n",
    "    plt.title(\"Histogram of boot_data\")\n",
    "    plt.show()\n",
    "       \n",
    "    return {\"boot_data\": boot_data, \n",
    "            \"quants\": quants, \n",
    "            \"p_value\": p_value}"
   ]
  },
  {
   "cell_type": "code",
   "execution_count": 57,
   "metadata": {},
   "outputs": [
    {
     "data": {
      "application/vnd.jupyter.widget-view+json": {
       "model_id": "ca5c594ebc2544b5979ebdf7bce53490",
       "version_major": 2,
       "version_minor": 0
      },
      "text/plain": [
       "HBox(children=(FloatProgress(value=0.0, max=2000.0), HTML(value='')))"
      ]
     },
     "metadata": {},
     "output_type": "display_data"
    },
    {
     "name": "stdout",
     "output_type": "stream",
     "text": [
      "\n"
     ]
    },
    {
     "data": {
      "image/png": "[encoded data removed]",
      "text/plain": [
       "<Figure size 720x432 with 1 Axes>"
      ]
     },
     "metadata": {},
     "output_type": "display_data"
    }
   ],
   "source": [
    "booted_data_mean = get_bootstrap(df_a.revenue, df_b.revenue, boot_it = 2000, \\\n",
    "                                 statistic = np.mean)"
   ]
  },
  {
   "cell_type": "code",
   "execution_count": 58,
   "metadata": {},
   "outputs": [
    {
     "data": {
      "text/plain": [
       "0.5465408744658964"
      ]
     },
     "execution_count": 58,
     "metadata": {},
     "output_type": "execute_result"
    }
   ],
   "source": [
    "# p-value\n",
    "booted_data_mean['p_value']"
   ]
  },
  {
   "cell_type": "markdown",
   "metadata": {},
   "source": [
    "###### Вывод:\n",
    "На основаниии полученных данных (p > 0.05 и 0 лежит в границах доверительного интервала) мы не можем отклонить гипотезу о том, что разница в средних значениях в обоих группах отсутствует."
   ]
  },
  {
   "cell_type": "markdown",
   "metadata": {},
   "source": [
    "### ARPPU\n",
    "Согласно нашим вычислениям разница между метрикой ARPPU в двух сравниваемых группах составляет 11,3%. Также сделаем проверку на статистически достоверную разницу. Гипотезы выдвигаем те же."
   ]
  },
  {
   "cell_type": "code",
   "execution_count": 59,
   "metadata": {},
   "outputs": [
    {
     "data": {
      "text/plain": [
       "Ttest_indResult(statistic=-1.5917100176862002, pvalue=0.11153459157259504)"
      ]
     },
     "execution_count": 59,
     "metadata": {},
     "output_type": "execute_result"
    }
   ],
   "source": [
    "# t-test\n",
    "ss.ttest_ind(df_a_rev.revenue,df_b_rev.revenue)"
   ]
  },
  {
   "cell_type": "markdown",
   "metadata": {},
   "source": [
    "Отклоняем альтернативную гипотезу"
   ]
  },
  {
   "cell_type": "code",
   "execution_count": 60,
   "metadata": {},
   "outputs": [
    {
     "data": {
      "text/plain": [
       "MannwhitneyuResult(statistic=222015.0, pvalue=0.0)"
      ]
     },
     "execution_count": 60,
     "metadata": {},
     "output_type": "execute_result"
    }
   ],
   "source": [
    "# непараметрический критерий Манна-Уитни\n",
    "ss.mannwhitneyu(df_a_rev.revenue, df_b_rev.revenue)"
   ]
  },
  {
   "cell_type": "markdown",
   "metadata": {},
   "source": [
    "Принимаем альтернативную гипотезу"
   ]
  },
  {
   "cell_type": "markdown",
   "metadata": {},
   "source": [
    "###### Гипотезы для Bootstrap\n",
    "* Н0 - разница в средних значениях ARPPU в обоих группах отсутствует, если р-уровень значимости больше 0.05\n",
    "* Н1 - разница существует, если р-уровень значимости меньше 0.05"
   ]
  },
  {
   "cell_type": "code",
   "execution_count": 61,
   "metadata": {},
   "outputs": [],
   "source": [
    "def get_bootstrap1(\n",
    "    data_column_1, # числовые значения первой выборки\n",
    "    data_column_2, # числовые значения второй выборки\n",
    "    boot_it = 1000, # количество бутстрэп-подвыборок\n",
    "    statistic = np.mean, # интересующая нас статистика\n",
    "    bootstrap_conf_level = 0.95 # уровень значимости\n",
    "):\n",
    "    boot_data = []\n",
    "    for i in tqdm(range(boot_it)): # извлекаем подвыборки\n",
    "        samples_1 = data_column_1.sample(\n",
    "            len(data_column_1), \n",
    "            replace = True # параметр возвращения\n",
    "        ).values\n",
    "        \n",
    "        samples_2 = data_column_2.sample(\n",
    "            len(data_column_1), \n",
    "            replace = True\n",
    "        ).values\n",
    "        \n",
    "        boot_data.append(statistic(samples_1)-statistic(samples_2)) # mean() - применяем статистику\n",
    "        \n",
    "    pd_boot_data = pd.DataFrame(boot_data)\n",
    "        \n",
    "    left_quant = (1 - bootstrap_conf_level)/2\n",
    "    right_quant = 1 - (1 - bootstrap_conf_level) / 2\n",
    "    quants = pd_boot_data.quantile([left_quant, right_quant])\n",
    "        \n",
    "    p_1 = norm.cdf(\n",
    "        x = 0, \n",
    "        loc = np.mean(boot_data), \n",
    "        scale = np.std(boot_data)\n",
    "    )\n",
    "    p_2 = norm.cdf(\n",
    "        x = 0, \n",
    "        loc = -np.mean(boot_data), \n",
    "        scale = np.std(boot_data)\n",
    "    )\n",
    "    p_value = min(p_1, p_2) * 2\n",
    "        \n",
    "    # Визуализация\n",
    "    plt.figure(figsize=(10,6))\n",
    "    _, _, bars = plt.hist(pd_boot_data[0], bins = 50)\n",
    "    for bar in bars:\n",
    "        if bar.get_x() <= quants.iloc[0][0] or bar.get_x() >= quants.iloc[1][0]:\n",
    "            bar.set_facecolor('red')\n",
    "            bar.set_edgecolor('black')\n",
    "        else: \n",
    "            bar.set_facecolor('blue')\n",
    "            bar.set_edgecolor('black')\n",
    "    \n",
    "    plt.style.use('ggplot')\n",
    "    plt.vlines(quants,ymin=0,ymax=50,linestyle='--')\n",
    "    plt.xlabel('boot_data')\n",
    "    plt.ylabel('frequency')\n",
    "    plt.title(\"Histogram of boot_data\")\n",
    "    plt.show()\n",
    "       \n",
    "    return {\"boot_data\": boot_data, \n",
    "            \"quants\": quants, \n",
    "            \"p_value\": p_value}"
   ]
  },
  {
   "cell_type": "code",
   "execution_count": 62,
   "metadata": {},
   "outputs": [
    {
     "data": {
      "application/vnd.jupyter.widget-view+json": {
       "model_id": "306db5f9d1c54bb9a1140a4d844576ef",
       "version_major": 2,
       "version_minor": 0
      },
      "text/plain": [
       "HBox(children=(FloatProgress(value=0.0, max=2000.0), HTML(value='')))"
      ]
     },
     "metadata": {},
     "output_type": "display_data"
    },
    {
     "name": "stdout",
     "output_type": "stream",
     "text": [
      "\n"
     ]
    },
    {
     "data": {
      "image/png": "[encoded data removed]",
      "text/plain": [
       "<Figure size 720x432 with 1 Axes>"
      ]
     },
     "metadata": {},
     "output_type": "display_data"
    }
   ],
   "source": [
    "booted_data_mean1 = get_bootstrap1(df_a_rev.revenue, df_b_rev.revenue, boot_it = 2000, \\\n",
    "                                 statistic = np.mean)"
   ]
  },
  {
   "cell_type": "code",
   "execution_count": 63,
   "metadata": {},
   "outputs": [
    {
     "data": {
      "text/plain": [
       "0.09722125746433938"
      ]
     },
     "execution_count": 63,
     "metadata": {},
     "output_type": "execute_result"
    }
   ],
   "source": [
    "# p-value\n",
    "booted_data_mean1['p_value']"
   ]
  },
  {
   "cell_type": "markdown",
   "metadata": {},
   "source": [
    "###### Вывод: \n",
    "На основаниии полученных данных (p > 0.05 и 0 лежит в границах доверительного интервала) мы не можем отклонить гипотезу о том, что разница в средних значениях в обоих группах отсутствует."
   ]
  },
  {
   "cell_type": "markdown",
   "metadata": {},
   "source": [
    "#### Общие выводы\n",
    "Результаты данного A/B теста показали, что относительно метрики ARPU статистически значимых различий нет. Метрика ARPPU оказалась противоречивой и в некоторой степени пограничной. Основной проблемой контрольного набора акционных предложений видится большая зависимость от клиентов переводящих крупные суммы транзакций, потеря каждого такого клиента будет нести весомый вклад в метрику ARPPU. Для тестовой группы присуще равномерное распределение, а следовательно поведение пользователей будет более предсказуемым. \n",
    "\n",
    "Предварительно я бы остановился на тестовом наборе акционных предложений. Но предложил бы провести дополнительные стресс-тесты направленные на изучение степени оттока/притока клиентов, что потенциально позволило бы доказать более сильное влияние созданных условий на контрольную группу."
   ]
  },
  {
   "cell_type": "code",
   "execution_count": null,
   "metadata": {},
   "outputs": [],
   "source": []
  },
  {
   "cell_type": "markdown",
   "metadata": {},
   "source": [
    "### Задание 3\n",
    "В игре Plants & Gardens каждый месяц проводятся тематические события, ограниченные по времени. В них игроки могут получить уникальные предметы для сада и персонажей, дополнительные монеты или бонусы. Для получения награды требуется пройти ряд уровней за определенное время. С помощью каких метрик можно оценить результаты последнего прошедшего события?\n",
    "\n",
    "Предположим, в другом событии мы усложнили механику событий так, что при каждой неудачной попытке выполнения уровня игрок будет откатываться на несколько уровней назад. Изменится ли набор метрик оценки результата? Если да, то как?"
   ]
  },
  {
   "cell_type": "markdown",
   "metadata": {},
   "source": [
    "###### Оценить результаты последнего прошедшего события возможно с помощью следующих метрик:\n",
    "\n",
    "1. DAU. Динамика DAU позволит изучить как падает интерес к событию с течением времени, а так же сравнить показатели DAU во время ивента и в обычные дни.\n",
    "2. MAU. Позволит в некоторой степени оценить интерес к ивенту текущего месяца.\n",
    "3. avgDAU/MAU. Относительная метрика позволяющая оценить активность во время ивента вне зависимости от времени года.\n",
    "4. ASL. Среднее время сессии за период позволит сравнить показатель во время периода тематического события с периодом без ивента, а так же с аналогичными периодами в других месяцах.\n",
    "5. Набор экономических метрик ARPU, ARPPU & CR\n",
    "6. Retention rate & churn rate. Для оценки уровня удержания и оттока когорт пользователей. Основной упор на сравнение  когорт, во временных рамках ивента с когортами образовавшимися в остальное время.\n",
    "7. CSAT. Оценка качества текущего ивента по сравниению с прошедшими ранее.\n",
    "\n",
    "Для усложненной механики дополняем:\n",
    "1. Отказы. Отношение количества пользователей отказавшихся проходить уровни с наградой после неудачной попытки прохождения на n-ный раз к общему количеству попыток прохождения уровня.\n",
    "2. Среднее количество повторных попыток когорт пользователей пройти уровни. Когорты сформировать по времени регистрации пользователя."
   ]
  },
  {
   "cell_type": "code",
   "execution_count": null,
   "metadata": {},
   "outputs": [],
   "source": []
  }
 ],
 "metadata": {
  "kernelspec": {
   "display_name": "Python 3",
   "language": "python",
   "name": "python3"
  },
  "language_info": {
   "codemirror_mode": {
    "name": "ipython",
    "version": 3
   },
   "file_extension": ".py",
   "mimetype": "text/x-python",
   "name": "python",
   "nbconvert_exporter": "python",
   "pygments_lexer": "ipython3",
   "version": "3.7.3"
  }
 },
 "nbformat": 4,
 "nbformat_minor": 4
}
